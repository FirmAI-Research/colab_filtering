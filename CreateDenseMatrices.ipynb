{
 "cells": [
  {
   "cell_type": "code",
   "execution_count": 1,
   "metadata": {},
   "outputs": [],
   "source": [
    "import pandas as pd\n",
    "import numpy as np\n",
    "sf3 = pd.read_csv('data/SHARADAR_holdings.csv')\n",
    "sf3 = sf3.dropna()"
   ]
  },
  {
   "cell_type": "code",
   "execution_count": 2,
   "metadata": {},
   "outputs": [],
   "source": [
    "df=sf3\n",
    "\n",
    "df[['ticker', 'investorname', 'calendardate']] = df[['ticker', 'investorname', 'calendardate']].astype(str)\n",
    "df[['value', 'units', 'price']] = df[['value', 'units', 'price']].astype(float)\n",
    "df=df[df['securitytype']=='SHR']\n",
    "df=df[['ticker', 'investorname', 'calendardate', 'value', 'units', 'price']]"
   ]
  },
  {
   "cell_type": "code",
   "execution_count": 3,
   "metadata": {},
   "outputs": [],
   "source": [
    "df_pivot = df.pivot_table(index=['ticker', 'investorname', 'calendardate'])"
   ]
  },
  {
   "cell_type": "code",
   "execution_count": 4,
   "metadata": {},
   "outputs": [
    {
     "data": {
      "text/html": [
       "<div>\n",
       "<style scoped>\n",
       "    .dataframe tbody tr th:only-of-type {\n",
       "        vertical-align: middle;\n",
       "    }\n",
       "\n",
       "    .dataframe tbody tr th {\n",
       "        vertical-align: top;\n",
       "    }\n",
       "\n",
       "    .dataframe thead th {\n",
       "        text-align: right;\n",
       "    }\n",
       "</style>\n",
       "<table border=\"1\" class=\"dataframe\">\n",
       "  <thead>\n",
       "    <tr style=\"text-align: right;\">\n",
       "      <th></th>\n",
       "      <th></th>\n",
       "      <th></th>\n",
       "      <th>price</th>\n",
       "      <th>units</th>\n",
       "      <th>value</th>\n",
       "    </tr>\n",
       "    <tr>\n",
       "      <th>ticker</th>\n",
       "      <th>investorname</th>\n",
       "      <th>calendardate</th>\n",
       "      <th></th>\n",
       "      <th></th>\n",
       "      <th></th>\n",
       "    </tr>\n",
       "  </thead>\n",
       "  <tbody>\n",
       "    <tr>\n",
       "      <th rowspan=\"5\" valign=\"top\">0001388994</th>\n",
       "      <th rowspan=\"5\" valign=\"top\">HUNTINGTON NATIONAL BANK</th>\n",
       "      <th>2018-09-30</th>\n",
       "      <td>0.0</td>\n",
       "      <td>1.0</td>\n",
       "      <td>0.0</td>\n",
       "    </tr>\n",
       "    <tr>\n",
       "      <th>2018-12-31</th>\n",
       "      <td>0.0</td>\n",
       "      <td>1.0</td>\n",
       "      <td>0.0</td>\n",
       "    </tr>\n",
       "    <tr>\n",
       "      <th>2019-06-30</th>\n",
       "      <td>0.0</td>\n",
       "      <td>1.0</td>\n",
       "      <td>0.0</td>\n",
       "    </tr>\n",
       "    <tr>\n",
       "      <th>2019-09-30</th>\n",
       "      <td>0.0</td>\n",
       "      <td>1.0</td>\n",
       "      <td>0.0</td>\n",
       "    </tr>\n",
       "    <tr>\n",
       "      <th>2019-12-31</th>\n",
       "      <td>0.0</td>\n",
       "      <td>1.0</td>\n",
       "      <td>0.0</td>\n",
       "    </tr>\n",
       "    <tr>\n",
       "      <th>...</th>\n",
       "      <th>...</th>\n",
       "      <th>...</th>\n",
       "      <td>...</td>\n",
       "      <td>...</td>\n",
       "      <td>...</td>\n",
       "    </tr>\n",
       "    <tr>\n",
       "      <th rowspan=\"5\" valign=\"top\">ZZZOF</th>\n",
       "      <th rowspan=\"2\" valign=\"top\">IFP ADVISORS INC</th>\n",
       "      <th>2021-09-30</th>\n",
       "      <td>7.0</td>\n",
       "      <td>130.0</td>\n",
       "      <td>1000.0</td>\n",
       "    </tr>\n",
       "    <tr>\n",
       "      <th>2021-12-31</th>\n",
       "      <td>7.0</td>\n",
       "      <td>130.0</td>\n",
       "      <td>1000.0</td>\n",
       "    </tr>\n",
       "    <tr>\n",
       "      <th rowspan=\"3\" valign=\"top\">INVERNESS COUNSEL LLC</th>\n",
       "      <th>2018-03-31</th>\n",
       "      <td>0.0</td>\n",
       "      <td>23800.0</td>\n",
       "      <td>7000.0</td>\n",
       "    </tr>\n",
       "    <tr>\n",
       "      <th>2018-06-30</th>\n",
       "      <td>0.0</td>\n",
       "      <td>23800.0</td>\n",
       "      <td>4000.0</td>\n",
       "    </tr>\n",
       "    <tr>\n",
       "      <th>2018-09-30</th>\n",
       "      <td>0.0</td>\n",
       "      <td>23800.0</td>\n",
       "      <td>2000.0</td>\n",
       "    </tr>\n",
       "  </tbody>\n",
       "</table>\n",
       "<p>33563204 rows × 3 columns</p>\n",
       "</div>"
      ],
      "text/plain": [
       "                                                  price    units   value\n",
       "ticker     investorname             calendardate                        \n",
       "0001388994 HUNTINGTON NATIONAL BANK 2018-09-30      0.0      1.0     0.0\n",
       "                                    2018-12-31      0.0      1.0     0.0\n",
       "                                    2019-06-30      0.0      1.0     0.0\n",
       "                                    2019-09-30      0.0      1.0     0.0\n",
       "                                    2019-12-31      0.0      1.0     0.0\n",
       "...                                                 ...      ...     ...\n",
       "ZZZOF      IFP ADVISORS INC         2021-09-30      7.0    130.0  1000.0\n",
       "                                    2021-12-31      7.0    130.0  1000.0\n",
       "           INVERNESS COUNSEL LLC    2018-03-31      0.0  23800.0  7000.0\n",
       "                                    2018-06-30      0.0  23800.0  4000.0\n",
       "                                    2018-09-30      0.0  23800.0  2000.0\n",
       "\n",
       "[33563204 rows x 3 columns]"
      ]
     },
     "execution_count": 4,
     "metadata": {},
     "output_type": "execute_result"
    }
   ],
   "source": [
    "df_pivot"
   ]
  },
  {
   "cell_type": "code",
   "execution_count": 5,
   "metadata": {},
   "outputs": [
    {
     "data": {
      "text/plain": [
       "(33563204, 3)"
      ]
     },
     "execution_count": 5,
     "metadata": {},
     "output_type": "execute_result"
    }
   ],
   "source": [
    "# Get unique counts of 'ticker', 'investorname', 'calendardate'\n",
    "num_tickers = df['ticker'].nunique()\n",
    "num_investors = df['investorname'].nunique()\n",
    "num_dates = df['calendardate'].nunique()\n",
    "\n",
    "# Reshape the values of the DataFrame to a 3D numpy array\n",
    "#array_3d = df_pivot.values.reshape(num_tickers, num_investors, num_dates, 3)\n",
    "num_tickers*num_investors*num_dates\n",
    "df_pivot.shape\n",
    "#df_pivot.values.reshape(num_tickers, num_investors, num_dates)\n",
    "#num_tickers*num_investors*num_dates"
   ]
  },
  {
   "cell_type": "code",
   "execution_count": 5,
   "metadata": {},
   "outputs": [
    {
     "name": "stdout",
     "output_type": "stream",
     "text": [
      "row[\"value\"]=181944939000.0\n",
      "array_3d[EAR][PATIENT SQUARE CAPITAL LP][2022-12-31]=inf\n",
      "row[\"value\"]=166083092402.0\n",
      "array_3d[AAPL][VANGUARD GROUP INC][2022-12-31]=inf\n",
      "row[\"value\"]=154123895838.0\n",
      "array_3d[MSFT][VANGUARD GROUP INC][2022-12-31]=inf\n",
      "row[\"value\"]=133725037174.0\n",
      "array_3d[AAPL][BLACKROCK INC][2022-12-31]=inf\n",
      "row[\"value\"]=127594482097.0\n",
      "array_3d[MSFT][BLACKROCK INC][2022-12-31]=inf\n",
      "row[\"value\"]=116305043218.0\n",
      "array_3d[AAPL][BERKSHIRE HATHAWAY INC][2022-12-31]=inf\n",
      "row[\"value\"]=80054070850.0\n",
      "array_3d[GOOGL][VANGUARD GROUP INC][2022-12-31]=inf\n",
      "row[\"value\"]=76250382632.0\n",
      "array_3d[AAPL][STATE STREET CORP][2022-12-31]=inf\n",
      "row[\"value\"]=70644900477.0\n",
      "array_3d[MSFT][STATE STREET CORP][2022-12-31]=inf\n",
      "row[\"value\"]=69055938156.0\n",
      "array_3d[GOOGL][BLACKROCK INC][2022-12-31]=inf\n",
      "row[\"value\"]=59813885796.0\n",
      "array_3d[AMZN][VANGUARD GROUP INC][2022-12-31]=inf\n",
      "row[\"value\"]=54539476000.0\n",
      "array_3d[ROIV][PATIENT SQUARE CAPITAL LP][2022-12-31]=inf\n",
      "row[\"value\"]=49956521665.0\n",
      "array_3d[AMZN][BLACKROCK INC][2022-12-31]=inf\n",
      "row[\"value\"]=47720741022.0\n",
      "array_3d[MSFT][FMR LLC][2022-12-31]=inf\n",
      "row[\"value\"]=44562890828.0\n",
      "array_3d[UNH][VANGUARD GROUP INC][2022-12-31]=inf\n",
      "row[\"value\"]=43601922600.0\n",
      "array_3d[JNJ][VANGUARD GROUP INC][2022-12-31]=inf\n"
     ]
    },
    {
     "name": "stderr",
     "output_type": "stream",
     "text": [
      "/var/folders/c1/dv7w7b2x49j3spqsxnz6y_sw0000gn/T/ipykernel_2792/3472688031.py:18: RuntimeWarning: overflow encountered in cast\n",
      "  array_3d[ticker_to_index[row['ticker']], investor_to_index[row['investorname']], date_to_index[row['calendardate']]] = row['value']\n"
     ]
    }
   ],
   "source": [
    "\n",
    "# Get the number of unique tickers, investors, and dates\n",
    "num_tickers = df['ticker'].nunique()\n",
    "num_investors = df['investorname'].nunique()\n",
    "num_dates = df['calendardate'].nunique()\n",
    "\n",
    "# Create a 3D numpy array of the same shape\n",
    "array_3d = np.full((num_tickers, num_investors, num_dates), 0.0,dtype=np.float16)\n",
    "\n",
    "# Create mappings from tickers, investors, and dates to indices\n",
    "ticker_to_index = {ticker: i for i, ticker in enumerate(df['ticker'].unique())}\n",
    "investor_to_index = {investor: i for i, investor in enumerate(df['investorname'].unique())}\n",
    "date_to_index = {date: i for i, date in enumerate(df['calendardate'].unique())}\n",
    "\n",
    "# Iterate over the DataFrame rows to fill in the values\n",
    "count=0\n",
    "max_count=15\n",
    "for idx, row in df.iterrows():\n",
    "    array_3d[ticker_to_index[row['ticker']], investor_to_index[row['investorname']], date_to_index[row['calendardate']]] = row['value']\n",
    "    print(f'row[\"value\"]={row[\"value\"]}')\n",
    "    ticker=row[\"ticker\"]\n",
    "    investorname=row['investorname']\n",
    "    calenderdate=row[\"calendardate\"]\n",
    "    array_val=array_3d[ticker_to_index[row['ticker']], investor_to_index[row['investorname']], date_to_index[row['calendardate']]]\n",
    "    print(f'array_3d[{ticker}][{investorname}][{calenderdate}]={array_val}')\n",
    "    count+=1\n",
    "    if (count>max_count):\n",
    "        break"
   ]
  },
  {
   "cell_type": "code",
   "execution_count": 4,
   "metadata": {},
   "outputs": [
    {
     "data": {
      "text/plain": [
       "(15662, 9472, 32)"
      ]
     },
     "execution_count": 4,
     "metadata": {},
     "output_type": "execute_result"
    }
   ],
   "source": [
    "array_3d.shape\n",
    "sum(sum(array_3d>0))\n",
    "array_3d.shape\n"
   ]
  },
  {
   "cell_type": "code",
   "execution_count": 15,
   "metadata": {},
   "outputs": [],
   "source": [
    "data_3d={}\n",
    "data_3d[\"values_file\"]=\"data/values.npz\"\n",
    "data_3d[\"values\"]=array_3d\n",
    "data_3d[\"tickers\"]=list(ticker_to_index.keys())\n",
    "data_3d[\"investors\"]=list(investor_to_index.keys())\n",
    "data_3d[\"dates\"]=list(date_to_index.keys())\n",
    "data_3d[\"ticker_to_index\"]=ticker_to_index\n",
    "data_3d[\"investor_to_index\"]=investor_to_index\n",
    "data_3d[\"date_to_index\"]=date_to_index\n"
   ]
  },
  {
   "cell_type": "code",
   "execution_count": 17,
   "metadata": {},
   "outputs": [],
   "source": [
    "import pickle\n",
    "\n",
    "\n",
    "# save the dictionary\n",
    "with open('data/3d_data_with_dimensions.pickle', 'wb') as handle:\n",
    "    pickle.dump(data_3d, handle, protocol=pickle.HIGHEST_PROTOCOL)\n",
    "#with open('data/3d_data_with_dimensions_description.pickle', 'wb') as handle:\n",
    "#    pickle.dump(data_3d, handle, protocol=pickle.HIGHEST_PROTOCOL)\n",
    "#np.savez(data_3d[\"values_file\"],array_3d)\n"
   ]
  },
  {
   "cell_type": "code",
   "execution_count": 22,
   "metadata": {},
   "outputs": [],
   "source": [
    "with open('data/3d_data_with_dimensions.pickle', 'rb') as f:\n",
    "    dict_vals= pickle.load(f)\n",
    "arr_vals=dict_vals[\"values\"]\n"
   ]
  },
  {
   "cell_type": "code",
   "execution_count": 30,
   "metadata": {},
   "outputs": [
    {
     "name": "stderr",
     "output_type": "stream",
     "text": [
      "/Users/stirlitz/miniforge3/lib/python3.10/site-packages/numpy/lib/function_base.py:1448: RuntimeWarning: invalid value encountered in subtract\n",
      "  a = op(a[slice1], a[slice2])\n"
     ]
    }
   ],
   "source": [
    "arr_vals.shape\n",
    "arr_buy_sell=np.diff(arr_vals,axis=2)\n"
   ]
  },
  {
   "cell_type": "code",
   "execution_count": 33,
   "metadata": {},
   "outputs": [
    {
     "data": {
      "text/plain": [
       "array([[[  inf,    0.,    0., ...,    0.,    0.,    0.],\n",
       "        [  inf,   inf,   inf, ...,    0.,    0.,    0.],\n",
       "        [  inf,   inf,   inf, ...,    0.,    0.,    0.],\n",
       "        ...,\n",
       "        [   0.,    0.,    0., ...,    0.,    0.,    0.],\n",
       "        [   0.,    0.,    0., ...,    0.,    0.,    0.],\n",
       "        [   0.,    0.,    0., ...,    0.,    0.,    0.]],\n",
       "\n",
       "       [[   0.,    0.,    0., ...,    0.,    0.,    0.],\n",
       "        [  inf,   inf,   inf, ...,   inf,   inf,   inf],\n",
       "        [  inf,   inf,   inf, ...,   inf,   inf,   inf],\n",
       "        ...,\n",
       "        [   0.,    0.,    0., ...,    0.,    0.,    0.],\n",
       "        [   0.,    0.,    0., ...,    0.,    0.,    0.],\n",
       "        [   0.,    0.,    0., ...,    0.,    0., 4624.]],\n",
       "\n",
       "       [[   0.,    0.,    0., ...,    0.,    0.,    0.],\n",
       "        [  inf,   inf,   inf, ...,   inf,   inf,   inf],\n",
       "        [  inf,   inf,   inf, ...,   inf,   inf,   inf],\n",
       "        ...,\n",
       "        [   0.,    0.,    0., ...,    0.,    0.,    0.],\n",
       "        [   0.,    0.,    0., ...,    0.,    0.,    0.],\n",
       "        [   0.,    0.,    0., ...,    0.,    0.,    0.]],\n",
       "\n",
       "       ...,\n",
       "\n",
       "       [[   0.,    0.,    0., ...,    0.,    0.,    0.],\n",
       "        [   0.,    0.,    0., ...,    0.,    0.,    0.],\n",
       "        [   0.,    0.,    0., ...,    0.,    0.,    0.],\n",
       "        ...,\n",
       "        [   0.,    0.,    0., ...,    0.,    0.,    0.],\n",
       "        [   0.,    0.,    0., ...,    0.,    0.,    0.],\n",
       "        [   0.,    0.,    0., ...,    0.,    0.,    0.]],\n",
       "\n",
       "       [[   0.,    0.,    0., ...,    0.,    0.,    0.],\n",
       "        [   0.,    0.,    0., ...,    0.,    0.,    0.],\n",
       "        [   0.,    0.,    0., ...,    0.,    0.,    0.],\n",
       "        ...,\n",
       "        [   0.,    0.,    0., ...,    0.,    0.,    0.],\n",
       "        [   0.,    0.,    0., ...,    0.,    0.,    0.],\n",
       "        [   0.,    0.,    0., ...,    0.,    0.,    0.]],\n",
       "\n",
       "       [[   0.,    0.,    0., ...,    0.,    0.,    0.],\n",
       "        [   0.,    0.,    0., ...,    0.,    0.,    0.],\n",
       "        [   0.,    0.,    0., ...,    0.,    0.,    0.],\n",
       "        ...,\n",
       "        [   0.,    0.,    0., ...,    0.,    0.,    0.],\n",
       "        [   0.,    0.,    0., ...,    0.,    0.,    0.],\n",
       "        [   0.,    0.,    0., ...,    0.,    0.,    0.]]], dtype=float16)"
      ]
     },
     "execution_count": 33,
     "metadata": {},
     "output_type": "execute_result"
    }
   ],
   "source": [
    "array_3d"
   ]
  },
  {
   "cell_type": "code",
   "execution_count": 16,
   "metadata": {},
   "outputs": [],
   "source": [
    "import torch\n",
    "\n",
    "a = torch.tensor([[1, 2, 3],\n",
    "                  [4, 5, 6],\n",
    "                  [10, 8, 9]])\n"
   ]
  },
  {
   "cell_type": "code",
   "execution_count": 21,
   "metadata": {},
   "outputs": [
    {
     "data": {
      "text/plain": [
       "tensor([1, 2, 3])"
      ]
     },
     "execution_count": 21,
     "metadata": {},
     "output_type": "execute_result"
    }
   ],
   "source": [
    "a[0,:]\n",
    "a.argmax(dim=1)\n",
    "a.sum(dim=0)\n",
    "a[0,:]"
   ]
  }
 ],
 "metadata": {
  "kernelspec": {
   "display_name": "base",
   "language": "python",
   "name": "python3"
  },
  "language_info": {
   "codemirror_mode": {
    "name": "ipython",
    "version": 3
   },
   "file_extension": ".py",
   "mimetype": "text/x-python",
   "name": "python",
   "nbconvert_exporter": "python",
   "pygments_lexer": "ipython3",
   "version": "3.10.8"
  },
  "orig_nbformat": 4
 },
 "nbformat": 4,
 "nbformat_minor": 2
}
