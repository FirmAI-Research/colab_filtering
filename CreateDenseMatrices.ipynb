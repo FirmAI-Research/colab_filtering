{
 "cells": [
  {
   "cell_type": "code",
   "execution_count": 1,
   "metadata": {},
   "outputs": [],
   "source": [
    "import pandas as pd\n",
    "import numpy as np\n",
    "sf3 = pd.read_csv('data/SHARADAR_holdings.csv')\n",
    "sf3 = sf3.dropna()"
   ]
  },
  {
   "cell_type": "code",
   "execution_count": 2,
   "metadata": {},
   "outputs": [],
   "source": [
    "df=sf3\n",
    "\n",
    "df[['ticker', 'investorname', 'calendardate']] = df[['ticker', 'investorname', 'calendardate']].astype(str)\n",
    "df[['value', 'units', 'price']] = df[['value', 'units', 'price']].astype(float)\n",
    "df=df[df['securitytype']=='SHR']\n",
    "df=df[['ticker', 'investorname', 'calendardate', 'value', 'units', 'price']]"
   ]
  },
  {
   "cell_type": "code",
   "execution_count": 3,
   "metadata": {},
   "outputs": [],
   "source": [
    "df_pivot = df.pivot_table(index=['ticker', 'investorname', 'calendardate'])"
   ]
  },
  {
   "cell_type": "code",
   "execution_count": 4,
   "metadata": {},
   "outputs": [
    {
     "data": {
      "text/html": [
       "<div>\n",
       "<style scoped>\n",
       "    .dataframe tbody tr th:only-of-type {\n",
       "        vertical-align: middle;\n",
       "    }\n",
       "\n",
       "    .dataframe tbody tr th {\n",
       "        vertical-align: top;\n",
       "    }\n",
       "\n",
       "    .dataframe thead th {\n",
       "        text-align: right;\n",
       "    }\n",
       "</style>\n",
       "<table border=\"1\" class=\"dataframe\">\n",
       "  <thead>\n",
       "    <tr style=\"text-align: right;\">\n",
       "      <th></th>\n",
       "      <th></th>\n",
       "      <th></th>\n",
       "      <th>price</th>\n",
       "      <th>units</th>\n",
       "      <th>value</th>\n",
       "    </tr>\n",
       "    <tr>\n",
       "      <th>ticker</th>\n",
       "      <th>investorname</th>\n",
       "      <th>calendardate</th>\n",
       "      <th></th>\n",
       "      <th></th>\n",
       "      <th></th>\n",
       "    </tr>\n",
       "  </thead>\n",
       "  <tbody>\n",
       "    <tr>\n",
       "      <th rowspan=\"5\" valign=\"top\">0001388994</th>\n",
       "      <th rowspan=\"5\" valign=\"top\">HUNTINGTON NATIONAL BANK</th>\n",
       "      <th>2018-09-30</th>\n",
       "      <td>0.0</td>\n",
       "      <td>1.0</td>\n",
       "      <td>0.0</td>\n",
       "    </tr>\n",
       "    <tr>\n",
       "      <th>2018-12-31</th>\n",
       "      <td>0.0</td>\n",
       "      <td>1.0</td>\n",
       "      <td>0.0</td>\n",
       "    </tr>\n",
       "    <tr>\n",
       "      <th>2019-06-30</th>\n",
       "      <td>0.0</td>\n",
       "      <td>1.0</td>\n",
       "      <td>0.0</td>\n",
       "    </tr>\n",
       "    <tr>\n",
       "      <th>2019-09-30</th>\n",
       "      <td>0.0</td>\n",
       "      <td>1.0</td>\n",
       "      <td>0.0</td>\n",
       "    </tr>\n",
       "    <tr>\n",
       "      <th>2019-12-31</th>\n",
       "      <td>0.0</td>\n",
       "      <td>1.0</td>\n",
       "      <td>0.0</td>\n",
       "    </tr>\n",
       "    <tr>\n",
       "      <th>...</th>\n",
       "      <th>...</th>\n",
       "      <th>...</th>\n",
       "      <td>...</td>\n",
       "      <td>...</td>\n",
       "      <td>...</td>\n",
       "    </tr>\n",
       "    <tr>\n",
       "      <th rowspan=\"5\" valign=\"top\">ZZZOF</th>\n",
       "      <th rowspan=\"2\" valign=\"top\">IFP ADVISORS INC</th>\n",
       "      <th>2021-09-30</th>\n",
       "      <td>7.0</td>\n",
       "      <td>130.0</td>\n",
       "      <td>1000.0</td>\n",
       "    </tr>\n",
       "    <tr>\n",
       "      <th>2021-12-31</th>\n",
       "      <td>7.0</td>\n",
       "      <td>130.0</td>\n",
       "      <td>1000.0</td>\n",
       "    </tr>\n",
       "    <tr>\n",
       "      <th rowspan=\"3\" valign=\"top\">INVERNESS COUNSEL LLC</th>\n",
       "      <th>2018-03-31</th>\n",
       "      <td>0.0</td>\n",
       "      <td>23800.0</td>\n",
       "      <td>7000.0</td>\n",
       "    </tr>\n",
       "    <tr>\n",
       "      <th>2018-06-30</th>\n",
       "      <td>0.0</td>\n",
       "      <td>23800.0</td>\n",
       "      <td>4000.0</td>\n",
       "    </tr>\n",
       "    <tr>\n",
       "      <th>2018-09-30</th>\n",
       "      <td>0.0</td>\n",
       "      <td>23800.0</td>\n",
       "      <td>2000.0</td>\n",
       "    </tr>\n",
       "  </tbody>\n",
       "</table>\n",
       "<p>33563204 rows × 3 columns</p>\n",
       "</div>"
      ],
      "text/plain": [
       "                                                  price    units   value\n",
       "ticker     investorname             calendardate                        \n",
       "0001388994 HUNTINGTON NATIONAL BANK 2018-09-30      0.0      1.0     0.0\n",
       "                                    2018-12-31      0.0      1.0     0.0\n",
       "                                    2019-06-30      0.0      1.0     0.0\n",
       "                                    2019-09-30      0.0      1.0     0.0\n",
       "                                    2019-12-31      0.0      1.0     0.0\n",
       "...                                                 ...      ...     ...\n",
       "ZZZOF      IFP ADVISORS INC         2021-09-30      7.0    130.0  1000.0\n",
       "                                    2021-12-31      7.0    130.0  1000.0\n",
       "           INVERNESS COUNSEL LLC    2018-03-31      0.0  23800.0  7000.0\n",
       "                                    2018-06-30      0.0  23800.0  4000.0\n",
       "                                    2018-09-30      0.0  23800.0  2000.0\n",
       "\n",
       "[33563204 rows x 3 columns]"
      ]
     },
     "execution_count": 4,
     "metadata": {},
     "output_type": "execute_result"
    }
   ],
   "source": [
    "df_pivot"
   ]
  },
  {
   "cell_type": "code",
   "execution_count": 5,
   "metadata": {},
   "outputs": [
    {
     "data": {
      "text/plain": [
       "(33563204, 3)"
      ]
     },
     "execution_count": 5,
     "metadata": {},
     "output_type": "execute_result"
    }
   ],
   "source": [
    "# Get unique counts of 'ticker', 'investorname', 'calendardate'\n",
    "num_tickers = df['ticker'].nunique()\n",
    "num_investors = df['investorname'].nunique()\n",
    "num_dates = df['calendardate'].nunique()\n",
    "\n",
    "# Reshape the values of the DataFrame to a 3D numpy array\n",
    "#array_3d = df_pivot.values.reshape(num_tickers, num_investors, num_dates, 3)\n",
    "num_tickers*num_investors*num_dates\n",
    "df_pivot.shape\n",
    "#df_pivot.values.reshape(num_tickers, num_investors, num_dates)\n",
    "#num_tickers*num_investors*num_dates"
   ]
  },
  {
   "cell_type": "code",
   "execution_count": 6,
   "metadata": {},
   "outputs": [
    {
     "ename": "KeyboardInterrupt",
     "evalue": "",
     "output_type": "error",
     "traceback": [
      "\u001b[0;31m---------------------------------------------------------------------------\u001b[0m",
      "\u001b[0;31mKeyboardInterrupt\u001b[0m                         Traceback (most recent call last)",
      "Cell \u001b[0;32mIn[6], line 15\u001b[0m\n\u001b[1;32m     12\u001b[0m date_to_index \u001b[39m=\u001b[39m {date: i \u001b[39mfor\u001b[39;00m i, date \u001b[39min\u001b[39;00m \u001b[39menumerate\u001b[39m(df[\u001b[39m'\u001b[39m\u001b[39mcalendardate\u001b[39m\u001b[39m'\u001b[39m]\u001b[39m.\u001b[39munique())}\n\u001b[1;32m     14\u001b[0m \u001b[39m# Iterate over the DataFrame rows to fill in the values\u001b[39;00m\n\u001b[0;32m---> 15\u001b[0m \u001b[39mfor\u001b[39;00m idx, row \u001b[39min\u001b[39;00m df\u001b[39m.\u001b[39miterrows():\n\u001b[1;32m     16\u001b[0m     array_3d[ticker_to_index[row[\u001b[39m'\u001b[39m\u001b[39mticker\u001b[39m\u001b[39m'\u001b[39m]], investor_to_index[row[\u001b[39m'\u001b[39m\u001b[39minvestorname\u001b[39m\u001b[39m'\u001b[39m]], date_to_index[row[\u001b[39m'\u001b[39m\u001b[39mcalendardate\u001b[39m\u001b[39m'\u001b[39m]]] \u001b[39m=\u001b[39m row[\u001b[39m'\u001b[39m\u001b[39mvalue\u001b[39m\u001b[39m'\u001b[39m]\n",
      "File \u001b[0;32m~/miniforge3/lib/python3.10/site-packages/pandas/core/frame.py:1399\u001b[0m, in \u001b[0;36mDataFrame.iterrows\u001b[0;34m(self)\u001b[0m\n\u001b[1;32m   1397\u001b[0m using_cow \u001b[39m=\u001b[39m using_copy_on_write()\n\u001b[1;32m   1398\u001b[0m \u001b[39mfor\u001b[39;00m k, v \u001b[39min\u001b[39;00m \u001b[39mzip\u001b[39m(\u001b[39mself\u001b[39m\u001b[39m.\u001b[39mindex, \u001b[39mself\u001b[39m\u001b[39m.\u001b[39mvalues):\n\u001b[0;32m-> 1399\u001b[0m     s \u001b[39m=\u001b[39m klass(v, index\u001b[39m=\u001b[39;49mcolumns, name\u001b[39m=\u001b[39;49mk)\u001b[39m.\u001b[39m__finalize__(\u001b[39mself\u001b[39m)\n\u001b[1;32m   1400\u001b[0m     \u001b[39mif\u001b[39;00m using_cow \u001b[39mand\u001b[39;00m \u001b[39mself\u001b[39m\u001b[39m.\u001b[39m_mgr\u001b[39m.\u001b[39mis_single_block:\n\u001b[1;32m   1401\u001b[0m         s\u001b[39m.\u001b[39m_mgr\u001b[39m.\u001b[39madd_references(\u001b[39mself\u001b[39m\u001b[39m.\u001b[39m_mgr)  \u001b[39m# type: ignore[arg-type]\u001b[39;00m\n",
      "File \u001b[0;32m~/miniforge3/lib/python3.10/site-packages/pandas/core/series.py:511\u001b[0m, in \u001b[0;36mSeries.__init__\u001b[0;34m(self, data, index, dtype, name, copy, fastpath)\u001b[0m\n\u001b[1;32m    508\u001b[0m \u001b[39melse\u001b[39;00m:\n\u001b[1;32m    509\u001b[0m     data \u001b[39m=\u001b[39m sanitize_array(data, index, dtype, copy)\n\u001b[0;32m--> 511\u001b[0m     manager \u001b[39m=\u001b[39m get_option(\u001b[39m\"\u001b[39;49m\u001b[39mmode.data_manager\u001b[39;49m\u001b[39m\"\u001b[39;49m)\n\u001b[1;32m    512\u001b[0m     \u001b[39mif\u001b[39;00m manager \u001b[39m==\u001b[39m \u001b[39m\"\u001b[39m\u001b[39mblock\u001b[39m\u001b[39m\"\u001b[39m:\n\u001b[1;32m    513\u001b[0m         data \u001b[39m=\u001b[39m SingleBlockManager\u001b[39m.\u001b[39mfrom_array(data, index, refs\u001b[39m=\u001b[39mrefs)\n",
      "File \u001b[0;32m~/miniforge3/lib/python3.10/site-packages/pandas/_config/config.py:261\u001b[0m, in \u001b[0;36mCallableDynamicDoc.__call__\u001b[0;34m(self, *args, **kwds)\u001b[0m\n\u001b[1;32m    260\u001b[0m \u001b[39mdef\u001b[39;00m \u001b[39m__call__\u001b[39m(\u001b[39mself\u001b[39m, \u001b[39m*\u001b[39margs, \u001b[39m*\u001b[39m\u001b[39m*\u001b[39mkwds) \u001b[39m-\u001b[39m\u001b[39m>\u001b[39m T:\n\u001b[0;32m--> 261\u001b[0m     \u001b[39mreturn\u001b[39;00m \u001b[39mself\u001b[39;49m\u001b[39m.\u001b[39;49m\u001b[39m__func__\u001b[39;49m(\u001b[39m*\u001b[39;49margs, \u001b[39m*\u001b[39;49m\u001b[39m*\u001b[39;49mkwds)\n",
      "File \u001b[0;32m~/miniforge3/lib/python3.10/site-packages/pandas/_config/config.py:135\u001b[0m, in \u001b[0;36m_get_option\u001b[0;34m(pat, silent)\u001b[0m\n\u001b[1;32m    134\u001b[0m \u001b[39mdef\u001b[39;00m \u001b[39m_get_option\u001b[39m(pat: \u001b[39mstr\u001b[39m, silent: \u001b[39mbool\u001b[39m \u001b[39m=\u001b[39m \u001b[39mFalse\u001b[39;00m) \u001b[39m-\u001b[39m\u001b[39m>\u001b[39m Any:\n\u001b[0;32m--> 135\u001b[0m     key \u001b[39m=\u001b[39m _get_single_key(pat, silent)\n\u001b[1;32m    137\u001b[0m     \u001b[39m# walk the nested dict\u001b[39;00m\n\u001b[1;32m    138\u001b[0m     root, k \u001b[39m=\u001b[39m _get_root(key)\n",
      "File \u001b[0;32m~/miniforge3/lib/python3.10/site-packages/pandas/_config/config.py:127\u001b[0m, in \u001b[0;36m_get_single_key\u001b[0;34m(pat, silent)\u001b[0m\n\u001b[1;32m    124\u001b[0m key \u001b[39m=\u001b[39m keys[\u001b[39m0\u001b[39m]\n\u001b[1;32m    126\u001b[0m \u001b[39mif\u001b[39;00m \u001b[39mnot\u001b[39;00m silent:\n\u001b[0;32m--> 127\u001b[0m     _warn_if_deprecated(key)\n\u001b[1;32m    129\u001b[0m key \u001b[39m=\u001b[39m _translate_key(key)\n\u001b[1;32m    131\u001b[0m \u001b[39mreturn\u001b[39;00m key\n",
      "File \u001b[0;32m~/miniforge3/lib/python3.10/site-packages/pandas/_config/config.py:649\u001b[0m, in \u001b[0;36m_warn_if_deprecated\u001b[0;34m(key)\u001b[0m\n\u001b[1;32m    645\u001b[0m     \u001b[39melse\u001b[39;00m:\n\u001b[1;32m    646\u001b[0m         \u001b[39mreturn\u001b[39;00m key\n\u001b[0;32m--> 649\u001b[0m \u001b[39mdef\u001b[39;00m \u001b[39m_warn_if_deprecated\u001b[39m(key: \u001b[39mstr\u001b[39m) \u001b[39m-\u001b[39m\u001b[39m>\u001b[39m \u001b[39mbool\u001b[39m:\n\u001b[1;32m    650\u001b[0m     \u001b[39m\"\"\"\u001b[39;00m\n\u001b[1;32m    651\u001b[0m \u001b[39m    Checks if `key` is a deprecated option and if so, prints a warning.\u001b[39;00m\n\u001b[1;32m    652\u001b[0m \n\u001b[0;32m   (...)\u001b[0m\n\u001b[1;32m    655\u001b[0m \u001b[39m    bool - True if `key` is deprecated, False otherwise.\u001b[39;00m\n\u001b[1;32m    656\u001b[0m \u001b[39m    \"\"\"\u001b[39;00m\n\u001b[1;32m    657\u001b[0m     d \u001b[39m=\u001b[39m _get_deprecated_option(key)\n",
      "\u001b[0;31mKeyboardInterrupt\u001b[0m: "
     ]
    }
   ],
   "source": [
    "\n",
    "# Get the number of unique tickers, investors, and dates\n",
    "num_tickers = df['ticker'].nunique()\n",
    "num_investors = df['investorname'].nunique()\n",
    "num_dates = df['calendardate'].nunique()\n",
    "\n",
    "# Create a 3D numpy array of the same shape\n",
    "array_3d = np.full((num_tickers, num_investors, num_dates), 0.0,dtype=np.float64)\n",
    "\n",
    "# Create mappings from tickers, investors, and dates to indices\n",
    "ticker_to_index = {ticker: i for i, ticker in enumerate(df['ticker'].unique())}\n",
    "investor_to_index = {investor: i for i, investor in enumerate(df['investorname'].unique())}\n",
    "date_to_index = {date: i for i, date in enumerate(df['calendardate'].unique())}\n",
    "\n",
    "# Iterate over the DataFrame rows to fill in the values\n",
    "for idx, row in df.iterrows():\n",
    "    array_3d[ticker_to_index[row['ticker']], investor_to_index[row['investorname']], date_to_index[row['calendardate']]] = row['value']"
   ]
  },
  {
   "cell_type": "code",
   "execution_count": 10,
   "metadata": {},
   "outputs": [
    {
     "data": {
      "text/plain": [
       "array([1281501, 1241164, 1267310, 1307288, 1320178, 1233265, 1229288,\n",
       "       1204525, 1137732, 1043144, 1022793,  986188, 1056254, 1009221,\n",
       "       1020553, 1031131, 1009939, 1014160, 1007388,  995732,  990469,\n",
       "        920711,  924838,  924592,  934334,  898762,  902088,  776529,\n",
       "             0,       0,       0,       0])"
      ]
     },
     "execution_count": 10,
     "metadata": {},
     "output_type": "execute_result"
    }
   ],
   "source": [
    "array_3d.shape\n",
    "sum(sum(array_3d>0))"
   ]
  }
 ],
 "metadata": {
  "kernelspec": {
   "display_name": "base",
   "language": "python",
   "name": "python3"
  },
  "language_info": {
   "codemirror_mode": {
    "name": "ipython",
    "version": 3
   },
   "file_extension": ".py",
   "mimetype": "text/x-python",
   "name": "python",
   "nbconvert_exporter": "python",
   "pygments_lexer": "ipython3",
   "version": "3.10.8"
  },
  "orig_nbformat": 4
 },
 "nbformat": 4,
 "nbformat_minor": 2
}
