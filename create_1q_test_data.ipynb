{
 "cells": [
  {
   "cell_type": "code",
   "execution_count": 46,
   "metadata": {},
   "outputs": [],
   "source": [
    "import pandas as pd"
   ]
  },
  {
   "attachments": {},
   "cell_type": "markdown",
   "metadata": {},
   "source": [
    "this is the main holdings file\n",
    "1. Read in the file\n",
    "2. Get unique tickers, investors and caledar dates\n",
    "3. select the first calendar date.\n"
   ]
  },
  {
   "cell_type": "code",
   "execution_count": 67,
   "metadata": {},
   "outputs": [],
   "source": [
    "sf3 = pd.read_csv('data/SHARADAR_holdings.csv')\n",
    "sf3 = sf3.dropna()\n",
    "ticker_list=sf3['ticker'].unique()\n",
    "ticker_list.sort()\n",
    "investor_list=sf3['investorname'].unique()\n",
    "calendar_list=sf3['calendardate'].unique()\n",
    "investor_list.sort()"
   ]
  },
  {
   "attachments": {},
   "cell_type": "markdown",
   "metadata": {},
   "source": [
    "q_index: which quarter"
   ]
  },
  {
   "cell_type": "code",
   "execution_count": 69,
   "metadata": {},
   "outputs": [],
   "source": [
    "calendar_list.sort()\n",
    "quarter_num=1\n",
    "#choose only the earliest date\n",
    "#get a smaller subset for the earliest date\n",
    "sf3 = sf3[sf3['calendardate'] == calendar_list[quarter_num]]\n"
   ]
  },
  {
   "cell_type": "code",
   "execution_count": 71,
   "metadata": {},
   "outputs": [
    {
     "name": "stdout",
     "output_type": "stream",
     "text": [
      "file=data/data_2q/sf_holdings_1000i_1000t.csv\n"
     ]
    },
    {
     "data": {
      "image/png": "[encoded data removed]",
      "text/plain": [
       "<Figure size 640x480 with 1 Axes>"
      ]
     },
     "metadata": {},
     "output_type": "display_data"
    }
   ],
   "source": [
    "import matplotlib\n",
    "import matplotlib.pyplot as plt\n",
    "import numpy as np\n",
    "#create a histogram of number of holdings per investor\n",
    "investor_list=sf3['investorname'].unique()\n",
    "investor_list.sort()\n",
    "investor_list\n",
    "investor_count = sf3.groupby('investorname').count()\n",
    "investor_count = investor_count.sort_values(by=['ticker'], ascending=False)\n",
    "investor_count = investor_count.reset_index()\n",
    "investor_count = investor_count[['investorname', 'ticker']]\n",
    "investor_count = investor_count.rename(columns={\"ticker\": \"count\"})\n",
    "#investor_count\n",
    "#investor_count['count'].hist(bins=100)\n",
    "#plt.show()\n",
    "investor_count\n",
    "len(ticker_list)\n",
    "investor_count[0:100]\n",
    "#now do the same with tickers\n",
    "ticker_count = sf3.groupby('ticker').count()\n",
    "ticker_count = ticker_count.sort_values(by=['investorname'], ascending=False)\n",
    "ticker_count = ticker_count.reset_index()\n",
    "ticker_count = ticker_count[['ticker', 'investorname']]\n",
    "ticker_count = ticker_count.rename(columns={\"investorname\": \"count\"})\n",
    "ticker_count\n",
    "ticker_count['count'].hist(bins=100)\n",
    "investor_count[0:1000]\n",
    "ticker_count[0:2500]\n",
    "\n",
    "num_investors = 1000\n",
    "num_tickers = 1000\n",
    "investor_list = investor_count['investorname'][0:num_investors]\n",
    "ticker_list = ticker_count['ticker'][0:num_tickers]\n",
    "sf_small=sf3\n",
    "sf_small = sf_small[sf_small['investorname'].isin(investor_list)]\n",
    "sf_small = sf_small[sf_small['ticker'].isin(ticker_list)]\n",
    "\n",
    "sf_small.shape[0]/len(investor_list)/len(ticker_list)\n",
    "\n",
    "investor_count[0:1000]\n",
    "filename=f'data/data_{quarter_num+1}q/sf_holdings_{num_investors}i_{num_tickers}t.csv'\n",
    "print(f'file={filename}')\n",
    "sf_small.to_csv(filename, index=False)"
   ]
  },
  {
   "cell_type": "code",
   "execution_count": 50,
   "metadata": {},
   "outputs": [
    {
     "data": {
      "text/plain": [
       "392909"
      ]
     },
     "execution_count": 50,
     "metadata": {},
     "output_type": "execute_result"
    }
   ],
   "source": [
    "sf_small.shape[0]"
   ]
  }
 ],
 "metadata": {
  "kernelspec": {
   "display_name": "base",
   "language": "python",
   "name": "python3"
  },
  "language_info": {
   "codemirror_mode": {
    "name": "ipython",
    "version": 3
   },
   "file_extension": ".py",
   "mimetype": "text/x-python",
   "name": "python",
   "nbconvert_exporter": "python",
   "pygments_lexer": "ipython3",
   "version": "3.10.11"
  },
  "orig_nbformat": 4
 },
 "nbformat": 4,
 "nbformat_minor": 2
}
