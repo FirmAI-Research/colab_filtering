{
 "cells": [
  {
   "cell_type": "code",
   "execution_count": 19,
   "metadata": {},
   "outputs": [],
   "source": [
    "import numpy as np\n",
    "import pandas as pd\n",
    "import torch\n",
    "import torch.nn as nn\n",
    "import torch.optim as optim\n",
    "from torch.utils.data import DataLoader, Dataset"
   ]
  },
  {
   "cell_type": "code",
   "execution_count": 35,
   "metadata": {},
   "outputs": [
    {
     "data": {
      "text/plain": [
       "array([0, 1, 2, 3, 4, 5, 6, 7, 8])"
      ]
     },
     "execution_count": 35,
     "metadata": {},
     "output_type": "execute_result"
    }
   ],
   "source": [
    "df=pd.read_csv('test.csv')\n",
    "df.head()\n",
    "# Get unique items/users and generate mapping dictionaries\n",
    "dimension_list=[\"ticker\",\"investorname\",\"calendardate\"]\n",
    "dimension_to_index={}\n",
    "index_to_dimension={}\n",
    "for dim in dimension_list:\n",
    "    unique_items = df[dim].unique()\n",
    "    item_to_id = {item: idx for idx, item in enumerate(unique_items)}\n",
    "    id_to_item = {idx: item for item, idx in item_to_id.items()}\n",
    "    df[dim] = df[dim].map(item_to_id)\n",
    "    dimension_to_index[dim]=item_to_id\n",
    "    index_to_dimension[dim]=id_to_item\n",
    "\n",
    "df.head()\n",
    "dimension_to_index\n",
    "index_to_dimension\n",
    "np.array(list(index_to_dimension[\"ticker\"].keys()))"
   ]
  },
  {
   "cell_type": "code",
   "execution_count": 49,
   "metadata": {},
   "outputs": [
    {
     "data": {
      "text/plain": [
       "(array([0, 0, 0]),\n",
       " array([0, 0, 0]),\n",
       " array([0, 1, 2]),\n",
       " array([0.17032018, 0.41282912, 0.92447239]))"
      ]
     },
     "execution_count": 49,
     "metadata": {},
     "output_type": "execute_result"
    }
   ],
   "source": [
    "#create a Dataset class\n",
    "class InvDataset(Dataset):\n",
    "    def __init__(self, df):\n",
    "        self.df = df\n",
    "        self.ticker=df[\"ticker\"].values\n",
    "        self.investorname=df[\"investorname\"].values\n",
    "        self.calendardate=df[\"calendardate\"].values\n",
    "\n",
    "        #self.X = df[[\"ticker\",\"investorname\",\"calendardate\"]].values\n",
    "        self.y = df[\"value\"].values\n",
    "\n",
    "    def __len__(self):\n",
    "        return len(self.df)\n",
    "\n",
    "    def __getitem__(self, idx):\n",
    "        #return self.X[idx,0],self.X[idx,0],self.X[idx,2], self.y[idx] \n",
    "        return self.ticker[idx],self.investorname[idx],self.calendardate[idx], self.y[idx]\n",
    "    \n",
    "    \n",
    "#test the InvDataset class\n",
    "\n",
    "dataset = InvDataset(df)\n",
    "dataset[0] \n",
    "\n",
    "\n",
    "#Create a DataLoader\n",
    "dataloader = DataLoader(dataset, batch_size=4, shuffle=True, num_workers=0)\n",
    "dataset[0:3]"
   ]
  },
  {
   "cell_type": "code",
   "execution_count": 33,
   "metadata": {},
   "outputs": [],
   "source": [
    "# Define your Model\n",
    "class RecommenderNet(nn.Module):\n",
    "    def __init__(self, n_tickers, n_investornames, n_calendardates,n_factors, hidden, dropout):\n",
    "        super().__init__()\n",
    "        self.ticker_emb = nn.Embedding(n_tickers, n_factors)\n",
    "        self.investorname_emb = nn.Embedding(n_investornames, n_factors)\n",
    "        self.calendardate_emb = nn.Embedding(n_calendardates, n_factors)\n",
    "\n",
    "        self.layers = nn.Sequential(\n",
    "            nn.Linear(n_factors*3, hidden),\n",
    "            nn.Dropout(dropout),\n",
    "            nn.ReLU(),\n",
    "            nn.Linear(hidden, 1)\n",
    "        )\n",
    "        \n",
    "    def forward(self, ticker_id, investorname_id, calendardate_id):\n",
    "        u = self.ticker_emb(ticker_id)\n",
    "        i = self.investorname_emb(investorname_id)\n",
    "        d=self.calendardate_emb(calendardate_id)\n",
    "        print(f'u={u},i={i},d={d}'')\n",
    "        x = torch.cat([u, i,d], dim=-1)\n",
    "        x = self.layers(x)\n",
    "        return x"
   ]
  },
  {
   "cell_type": "code",
   "execution_count": 34,
   "metadata": {},
   "outputs": [
    {
     "data": {
      "text/plain": [
       "tensor([[0.2363],\n",
       "        [0.2888],\n",
       "        [0.1876],\n",
       "        [0.1060]], grad_fn=<AddmmBackward0>)"
      ]
     },
     "execution_count": 34,
     "metadata": {},
     "output_type": "execute_result"
    }
   ],
   "source": [
    "x,y=next(iter(dataloader))\n",
    "model=RecommenderNet(len(dimension_to_index[\"ticker\"]),len(dimension_to_index[\"investorname\"]),len(dimension_to_index[\"calendardate\"]),n_factors=50, hidden=10, dropout=0.05)\n",
    "test=model(x[:,0],x[:,1],x[:,2])\n",
    "test"
   ]
  },
  {
   "cell_type": "code",
   "execution_count": 54,
   "metadata": {},
   "outputs": [],
   "source": [
    "# Training function\n",
    "def train(model, dataloader, optimizer, criterion):\n",
    "    model.train()\n",
    "    total_loss = 0\n",
    "    for ticker, investorname, calenderdate, target in dataloader:\n",
    "        # Forward pass\n",
    "        prediction = model(ticker, investorname, calenderdate)\n",
    "        loss = criterion(prediction, target)\n",
    "        print(f'ticker={ticker}, investorname={investorname}, calenderdate={calenderdate}, target={target}, prediction={prediction}, loss={loss}')\n",
    "        # Backward pass and optimize\n",
    "        loss.backward()\n",
    "        optimizer.step()\n",
    "        optimizer.zero_grad()\n",
    "        \n",
    "        total_loss += loss.item()\n",
    "    return total_loss / len(dataloader)\n",
    "\n",
    "# Validation function\n",
    "def validate(model, dataloader, criterion):\n",
    "    model.eval()\n",
    "    total_loss = 0\n",
    "    with torch.no_grad():\n",
    "        for user, item, target in dataloader:\n",
    "            prediction = model(user, item)\n",
    "            loss = criterion(prediction, target)\n",
    "            total_loss += loss.item()\n",
    "    return total_loss / len(dataloader)\n"
   ]
  },
  {
   "cell_type": "code",
   "execution_count": 55,
   "metadata": {},
   "outputs": [
    {
     "name": "stdout",
     "output_type": "stream",
     "text": [
      "ticker=tensor([1, 6, 7, 3]), investorname=tensor([3, 0, 7, 2]), calenderdate=tensor([1, 3, 2, 1]), target=tensor([0.2782, 0.1094, 0.3832, 0.7296], dtype=torch.float64), prediction=tensor([[0.4867],\n",
      "        [0.4950],\n",
      "        [0.4162],\n",
      "        [0.4337]], grad_fn=<AddmmBackward0>), loss=0.05941814664988344\n"
     ]
    },
    {
     "name": "stderr",
     "output_type": "stream",
     "text": [
      "/Applications/anaconda3/envs/ml_env2/lib/python3.11/site-packages/torch/nn/modules/loss.py:536: UserWarning: Using a target size (torch.Size([4])) that is different to the input size (torch.Size([4, 1])). This will likely lead to incorrect results due to broadcasting. Please ensure they have the same size.\n",
      "  return F.mse_loss(input, target, reduction=self.reduction)\n"
     ]
    },
    {
     "ename": "RuntimeError",
     "evalue": "Found dtype Double but expected Float",
     "output_type": "error",
     "traceback": [
      "\u001b[0;31m---------------------------------------------------------------------------\u001b[0m",
      "\u001b[0;31mRuntimeError\u001b[0m                              Traceback (most recent call last)",
      "Cell \u001b[0;32mIn[55], line 12\u001b[0m\n\u001b[1;32m     10\u001b[0m n_epochs \u001b[39m=\u001b[39m \u001b[39m10\u001b[39m  \u001b[39m# Adjust as needed\u001b[39;00m\n\u001b[1;32m     11\u001b[0m \u001b[39mfor\u001b[39;00m epoch \u001b[39min\u001b[39;00m \u001b[39mrange\u001b[39m(n_epochs):\n\u001b[0;32m---> 12\u001b[0m     train_loss \u001b[39m=\u001b[39m train(model, dataloader, optimizer, criterion)\n\u001b[1;32m     13\u001b[0m     valid_loss \u001b[39m=\u001b[39m validate(model, dataloader, criterion)\n\u001b[1;32m     14\u001b[0m     \u001b[39mprint\u001b[39m(\u001b[39mf\u001b[39m\u001b[39m'\u001b[39m\u001b[39mEpoch: \u001b[39m\u001b[39m{\u001b[39;00mepoch\u001b[39m+\u001b[39m\u001b[39m1\u001b[39m\u001b[39m}\u001b[39;00m\u001b[39m/\u001b[39m\u001b[39m{\u001b[39;00mn_epochs\u001b[39m}\u001b[39;00m\u001b[39m.. Training loss: \u001b[39m\u001b[39m{\u001b[39;00mtrain_loss\u001b[39m}\u001b[39;00m\u001b[39m.. Validation Loss: \u001b[39m\u001b[39m{\u001b[39;00mvalid_loss\u001b[39m}\u001b[39;00m\u001b[39m'\u001b[39m)\n",
      "Cell \u001b[0;32mIn[54], line 11\u001b[0m, in \u001b[0;36mtrain\u001b[0;34m(model, dataloader, optimizer, criterion)\u001b[0m\n\u001b[1;32m      9\u001b[0m \u001b[39mprint\u001b[39m(\u001b[39mf\u001b[39m\u001b[39m'\u001b[39m\u001b[39mticker=\u001b[39m\u001b[39m{\u001b[39;00mticker\u001b[39m}\u001b[39;00m\u001b[39m, investorname=\u001b[39m\u001b[39m{\u001b[39;00minvestorname\u001b[39m}\u001b[39;00m\u001b[39m, calenderdate=\u001b[39m\u001b[39m{\u001b[39;00mcalenderdate\u001b[39m}\u001b[39;00m\u001b[39m, target=\u001b[39m\u001b[39m{\u001b[39;00mtarget\u001b[39m}\u001b[39;00m\u001b[39m, prediction=\u001b[39m\u001b[39m{\u001b[39;00mprediction\u001b[39m}\u001b[39;00m\u001b[39m, loss=\u001b[39m\u001b[39m{\u001b[39;00mloss\u001b[39m}\u001b[39;00m\u001b[39m'\u001b[39m)\n\u001b[1;32m     10\u001b[0m \u001b[39m# Backward pass and optimize\u001b[39;00m\n\u001b[0;32m---> 11\u001b[0m loss\u001b[39m.\u001b[39;49mbackward()\n\u001b[1;32m     12\u001b[0m optimizer\u001b[39m.\u001b[39mstep()\n\u001b[1;32m     13\u001b[0m optimizer\u001b[39m.\u001b[39mzero_grad()\n",
      "File \u001b[0;32m/Applications/anaconda3/envs/ml_env2/lib/python3.11/site-packages/torch/_tensor.py:487\u001b[0m, in \u001b[0;36mTensor.backward\u001b[0;34m(self, gradient, retain_graph, create_graph, inputs)\u001b[0m\n\u001b[1;32m    477\u001b[0m \u001b[39mif\u001b[39;00m has_torch_function_unary(\u001b[39mself\u001b[39m):\n\u001b[1;32m    478\u001b[0m     \u001b[39mreturn\u001b[39;00m handle_torch_function(\n\u001b[1;32m    479\u001b[0m         Tensor\u001b[39m.\u001b[39mbackward,\n\u001b[1;32m    480\u001b[0m         (\u001b[39mself\u001b[39m,),\n\u001b[0;32m   (...)\u001b[0m\n\u001b[1;32m    485\u001b[0m         inputs\u001b[39m=\u001b[39minputs,\n\u001b[1;32m    486\u001b[0m     )\n\u001b[0;32m--> 487\u001b[0m torch\u001b[39m.\u001b[39;49mautograd\u001b[39m.\u001b[39;49mbackward(\n\u001b[1;32m    488\u001b[0m     \u001b[39mself\u001b[39;49m, gradient, retain_graph, create_graph, inputs\u001b[39m=\u001b[39;49minputs\n\u001b[1;32m    489\u001b[0m )\n",
      "File \u001b[0;32m/Applications/anaconda3/envs/ml_env2/lib/python3.11/site-packages/torch/autograd/__init__.py:200\u001b[0m, in \u001b[0;36mbackward\u001b[0;34m(tensors, grad_tensors, retain_graph, create_graph, grad_variables, inputs)\u001b[0m\n\u001b[1;32m    195\u001b[0m     retain_graph \u001b[39m=\u001b[39m create_graph\n\u001b[1;32m    197\u001b[0m \u001b[39m# The reason we repeat same the comment below is that\u001b[39;00m\n\u001b[1;32m    198\u001b[0m \u001b[39m# some Python versions print out the first line of a multi-line function\u001b[39;00m\n\u001b[1;32m    199\u001b[0m \u001b[39m# calls in the traceback and some print out the last line\u001b[39;00m\n\u001b[0;32m--> 200\u001b[0m Variable\u001b[39m.\u001b[39;49m_execution_engine\u001b[39m.\u001b[39;49mrun_backward(  \u001b[39m# Calls into the C++ engine to run the backward pass\u001b[39;49;00m\n\u001b[1;32m    201\u001b[0m     tensors, grad_tensors_, retain_graph, create_graph, inputs,\n\u001b[1;32m    202\u001b[0m     allow_unreachable\u001b[39m=\u001b[39;49m\u001b[39mTrue\u001b[39;49;00m, accumulate_grad\u001b[39m=\u001b[39;49m\u001b[39mTrue\u001b[39;49;00m)\n",
      "\u001b[0;31mRuntimeError\u001b[0m: Found dtype Double but expected Float"
     ]
    }
   ],
   "source": [
    "n_factors = 5  # Adjust as needed\n",
    "hidden = 10  # Adjust as needed\n",
    "dropout = 0.-5  # Adjust as needed\n",
    "\n",
    "model=RecommenderNet(len(dimension_to_index[\"ticker\"]),len(dimension_to_index[\"investorname\"]),len(dimension_to_index[\"calendardate\"]),n_factors=50, hidden=10, dropout=0.05)\n",
    "criterion = nn.MSELoss()  # Adjust as needed\n",
    "optimizer = optim.Adam(model.parameters(), lr=0.01)  # Adjust as needed\n",
    "\n",
    "# Train the model\n",
    "n_epochs = 10  # Adjust as needed\n",
    "for epoch in range(n_epochs):\n",
    "    train_loss = train(model, dataloader, optimizer, criterion)\n",
    "    valid_loss = validate(model, dataloader, criterion)\n",
    "    print(f'Epoch: {epoch+1}/{n_epochs}.. Training loss: {train_loss}.. Validation Loss: {valid_loss}')"
   ]
  }
 ],
 "metadata": {
  "kernelspec": {
   "display_name": "ml_env2",
   "language": "python",
   "name": "python3"
  },
  "language_info": {
   "codemirror_mode": {
    "name": "ipython",
    "version": 3
   },
   "file_extension": ".py",
   "mimetype": "text/x-python",
   "name": "python",
   "nbconvert_exporter": "python",
   "pygments_lexer": "ipython3",
   "version": "3.11.3"
  },
  "orig_nbformat": 4
 },
 "nbformat": 4,
 "nbformat_minor": 2
}
