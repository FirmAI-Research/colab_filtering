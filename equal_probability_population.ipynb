{
 "cells": [
  {
   "attachments": {},
   "cell_type": "markdown",
   "metadata": {},
   "source": [
    "I have a matrix of ownership R. where $R_{i,j,t}$ is the value stock j, owned by investor i on calendardate t. \n",
    "I need to create a list of tuples, (investor,stock,caelendardate, own). where own is either 1 if the investor owns the stock on calendar date, or zero if they don't. I need a 1 for every combination of investor, ticker, calendar date where the investor owns the stock.\n",
    "I also want to for each calendardate: for each investor the number of entries with own = 0 to be roughly equal to the number of entries with own =1 and also for each stock, i want the number of entries with own =0 to be roughly equal to the number of entries with own =1 "
   ]
  }
 ],
 "metadata": {
  "language_info": {
   "name": "python"
  },
  "orig_nbformat": 4
 },
 "nbformat": 4,
 "nbformat_minor": 2
}
